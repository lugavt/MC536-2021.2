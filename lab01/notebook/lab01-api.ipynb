{
 "cells": [
  {
   "cell_type": "markdown",
   "metadata": {},
   "source": [
    "# Lab 1 - API de Acesso a Dados"
   ]
  },
  {
   "cell_type": "markdown",
   "metadata": {},
   "source": [
    "# Tarefa 1\n",
    "\n",
    "Das fontes de dados disponíveis, tente encontrar fontes com formatos diferentes e importá-las via Python. Busque pelo menos dois formatos."
   ]
  },
  {
   "cell_type": "code",
   "execution_count": 62,
   "metadata": {
    "scrolled": true
   },
   "outputs": [
    {
     "name": "stdout",
     "output_type": "stream",
     "text": [
      "{\"date\":20210307,\"state\":\"NY\",\"positive\":1681169,\"probableCases\":null,\"negative\":null,\"pending\":null,\"totalTestResultsSource\":\"totalTestEncountersViral\",\"totalTestResults\":39695100,\"hospitalizedCurrently\":4789,\"hospitalizedCumulative\":null,\"inIcuCurrently\":999,\"inIcuCumulative\":null,\"onVentilatorCurrently\":682,\"onVentilatorCumulative\":null,\"recovered\":null,\"lastUpdateEt\":\"3/6/2021 14:00\",\"dateModified\":\"2021-03-06T14:00:00Z\",\"checkTimeEt\":\"03/06 09:00\",\"death\":39029,\"hospitalized\":null,\"hospitalizedDischarged\":150100,\"dateChecked\":\"2021-03-06T14:00:00Z\",\"totalTestsViral\":null,\"positiveTestsViral\":null,\"negativeTestsViral\":null,\"positiveCasesViral\":null,\"deathConfirmed\":null,\"deathProbable\":null,\"totalTestEncountersViral\":39695100,\"totalTestsPeopleViral\":null,\"totalTestsAntibody\":null,\"positiveTestsAntibody\":null,\"negativeTestsAntibody\":null,\"totalTestsPeopleAntibody\":null,\"positiveTestsPeopleAntibody\":null,\"negativeTestsPeopleAntibody\":null,\"totalTestsPeopleAntigen\":null,\"positiveTestsPeopleAntigen\":null,\"totalTestsAntigen\":null,\"positiveTestsAntigen\":null,\"fips\":\"36\",\"positiveIncrease\":6789,\"negativeIncrease\":0,\"total\":1681169,\"totalTestResultsIncrease\":227768,\"posNeg\":1681169,\"dataQualityGrade\":null,\"deathIncrease\":59,\"hospitalizedIncrease\":0,\"hash\":\"8b1ad6376deb03844d4e5e3f615197da1b3a214e\",\"commercialScore\":0,\"negativeRegularScore\":0,\"negativeScore\":0,\"positiveScore\":0,\"score\":0,\"grade\":\"\"}\n",
      "\n"
     ]
    }
   ],
   "source": [
    "#Casos diarios de COVID em nova york no dia 3/6/2021\n",
    "import requests\n",
    "url = \"https://api.covidtracking.com/v1/states/ny/current.json\"\n",
    "js = requests.get(url).content\n",
    "print(js.decode(\"utf-8\"))"
   ]
  },
  {
   "cell_type": "code",
   "execution_count": 58,
   "metadata": {},
   "outputs": [
    {
     "name": "stdout",
     "output_type": "stream",
     "text": [
      "    data_iniSE      SE  casos_est  casos_est_min  casos_est_max  casos  \\\n",
      "0   2021-01-03  202101        9.0              9              9      9   \n",
      "1   2021-01-10  202102       11.0             11             11     11   \n",
      "2   2021-01-17  202103       14.0             14             14     14   \n",
      "3   2021-01-24  202104       30.0             30             30     30   \n",
      "4   2021-01-31  202105       18.0             18             18     18   \n",
      "5   2021-02-07  202106       17.0             17             17     17   \n",
      "6   2021-02-14  202107       17.0             17             17     17   \n",
      "7   2021-02-21  202108       25.0             25             25     25   \n",
      "8   2021-02-28  202109       23.0             23             23     23   \n",
      "9   2021-03-07  202110       31.0             31             31     31   \n",
      "10  2021-03-14  202111       36.0             36             36     36   \n",
      "11  2021-03-21  202112       43.0             43             43     43   \n",
      "12  2021-03-28  202113       46.0             46             46     46   \n",
      "13  2021-04-04  202114       73.0             73             73     73   \n",
      "14  2021-04-11  202115       64.0             64             64     64   \n",
      "15  2021-04-18  202116       41.0             41             41     41   \n",
      "16  2021-04-25  202117       41.0             41             41     41   \n",
      "17  2021-05-02  202118       31.0             31             31     31   \n",
      "18  2021-05-09  202119       42.0             42             42     42   \n",
      "19  2021-05-16  202120       52.0             52             52     52   \n",
      "20  2021-05-23  202121       50.0             50             50     50   \n",
      "21  2021-05-30  202122       40.0             40             40     41   \n",
      "22  2021-06-06  202123       34.0             34             37     34   \n",
      "23  2021-06-13  202124       39.0             38             42     38   \n",
      "24  2021-06-20  202125       21.0             20             25     20   \n",
      "25  2021-06-27  202126       29.0             27             34     27   \n",
      "26  2021-07-04  202127       28.0             25             34     25   \n",
      "27  2021-07-11  202128       24.0             21             31     20   \n",
      "28  2021-07-18  202129       24.0             20             33     18   \n",
      "29  2021-07-25  202130       13.0              7             23      5   \n",
      "30  2021-08-01  202131       17.0              9             31      6   \n",
      "31  2021-08-08  202132       19.0              9             40      4   \n",
      "\n",
      "       p_rt1  p_inc100k  Localidade_id  nivel  ...  versao_modelo  tweet   Rt  \\\n",
      "0   0.642163   0.133377              0      2  ...     2021-08-17   23.0  1.0   \n",
      "1   0.736372   0.163016              0      2  ...     2021-08-17   20.0  1.0   \n",
      "2   0.825699   0.207475              0      2  ...     2021-08-17   26.0  1.0   \n",
      "3   0.997716   0.444588              0      2  ...     2021-08-17   28.0  2.0   \n",
      "4   0.567613   0.266753              0      2  ...     2021-08-17   25.0  1.0   \n",
      "5   0.242690   0.251933              0      2  ...     2021-08-17   16.0  1.0   \n",
      "6   0.293499   0.251933              0      2  ...     2021-08-17   30.0  1.0   \n",
      "7   0.849171   0.370490              0      2  ...     2021-08-17   38.0  1.0   \n",
      "8   0.717698   0.340851              0      2  ...     2021-08-17   11.0  1.0   \n",
      "9   0.884862   0.459408              0      2  ...     2021-08-17  142.0  1.0   \n",
      "10  0.907948   0.533506              0      2  ...     2021-08-17   12.0  1.0   \n",
      "11  0.931070   0.637243              0      2  ...     2021-08-17   24.0  1.0   \n",
      "12  0.864073   0.681702              0      2  ...     2021-08-17   35.0  1.0   \n",
      "13  0.997760   1.081830              0      2  ...     2021-08-17   19.0  2.0   \n",
      "14  0.869319   0.948455              0      1  ...     2021-08-17   32.0  1.0   \n",
      "15  0.025942   0.607604              0      1  ...     2021-08-17   13.0  1.0   \n",
      "16  0.042624   0.607604              0      1  ...     2021-08-17   32.0  1.0   \n",
      "17  0.029483   0.459408              0      1  ...     2021-08-17    9.0  1.0   \n",
      "18  0.595214   0.622424              0      1  ...     2021-08-17   14.0  1.0   \n",
      "19  0.934819   0.770620              0      1  ...     2021-08-17   11.0  1.0   \n",
      "20  0.800852   0.740981              0      1  ...     2021-08-17   23.0  1.0   \n",
      "21  0.224437   0.592784              0      1  ...     2021-08-17   45.0  1.0   \n",
      "22  0.080962   0.503867              0      1  ...     2021-08-17  324.0  1.0   \n",
      "23  0.394500   0.577965              0      1  ...     2021-08-17   14.0  1.0   \n",
      "24  0.017810   0.311212              0      1  ...     2021-08-17    6.0  1.0   \n",
      "25  0.312266   0.429769              0      1  ...     2021-08-17   48.0  1.0   \n",
      "26  0.480560   0.414949              0      1  ...     2021-08-17  132.0  1.0   \n",
      "27  0.336734   0.355671              0      1  ...     2021-08-17    7.0  1.0   \n",
      "28  0.356108   0.355671              0      1  ...     2021-08-17   20.0  1.0   \n",
      "29  0.027526   0.192655              0      1  ...     2021-08-17   14.0  1.0   \n",
      "30  0.251283   0.251933              0      1  ...     2021-08-17    4.0  1.0   \n",
      "31  0.595414   0.281573              0      1  ...     2021-08-17    2.0  1.0   \n",
      "\n",
      "          pop  tempmin  umidmax  receptivo  transmissao  nivel_inc  \\\n",
      "0   6747815.0     24.0      NaN          1            0          0   \n",
      "1   6747815.0     24.0      NaN          1            0          0   \n",
      "2   6747815.0     24.0      NaN          1            0          0   \n",
      "3   6747815.0     25.0      NaN          1            0          0   \n",
      "4   6747815.0     24.0      NaN          1            0          0   \n",
      "5   6747815.0     22.0      NaN          1            0          0   \n",
      "6   6747815.0     24.0      NaN          1            0          0   \n",
      "7   6747815.0     23.0      NaN          1            0          0   \n",
      "8   6747815.0     24.0      NaN          1            0          0   \n",
      "9   6747815.0     23.0      NaN          1            0          0   \n",
      "10  6747815.0     24.0      NaN          1            0          0   \n",
      "11  6747815.0     24.0      NaN          1            0          0   \n",
      "12  6747815.0     23.0      NaN          1            0          0   \n",
      "13  6747815.0     21.0      NaN          1            0          0   \n",
      "14  6747815.0     20.0      NaN          0            0          0   \n",
      "15  6747815.0     20.0      NaN          0            0          0   \n",
      "16  6747815.0     20.0      NaN          0            0          0   \n",
      "17  6747815.0     20.0      NaN          0            0          0   \n",
      "18  6747815.0     18.0      NaN          0            0          0   \n",
      "19  6747815.0     19.0      NaN          0            0          0   \n",
      "20  6747815.0     19.0      NaN          0            0          0   \n",
      "21  6747815.0     19.0      NaN          0            0          0   \n",
      "22  6747815.0     20.0      NaN          0            0          0   \n",
      "23  6747815.0     17.0      NaN          0            0          0   \n",
      "24  6747815.0     17.0      NaN          0            0          0   \n",
      "25  6747815.0     15.0      NaN          0            0          0   \n",
      "26  6747815.0     15.0      NaN          0            0          0   \n",
      "27  6747815.0     17.0      NaN          0            0          0   \n",
      "28  6747815.0     14.0      NaN          0            0          0   \n",
      "29  6747815.0     15.0      NaN          0            0          0   \n",
      "30  6747815.0     15.0      NaN          0            0          0   \n",
      "31  6747815.0     17.0      NaN          0            0          0   \n",
      "\n",
      "    notif_accum_year  \n",
      "0                952  \n",
      "1                952  \n",
      "2                952  \n",
      "3                952  \n",
      "4                952  \n",
      "5                952  \n",
      "6                952  \n",
      "7                952  \n",
      "8                952  \n",
      "9                952  \n",
      "10               952  \n",
      "11               952  \n",
      "12               952  \n",
      "13               952  \n",
      "14               952  \n",
      "15               952  \n",
      "16               952  \n",
      "17               952  \n",
      "18               952  \n",
      "19               952  \n",
      "20               952  \n",
      "21               952  \n",
      "22               952  \n",
      "23               952  \n",
      "24               952  \n",
      "25               952  \n",
      "26               952  \n",
      "27               952  \n",
      "28               952  \n",
      "29               952  \n",
      "30               952  \n",
      "31               952  \n",
      "\n",
      "[32 rows x 21 columns]\n"
     ]
    }
   ],
   "source": [
    "# Casos de dengue\n",
    "import requests\n",
    "import pandas as pd\n",
    "import io\n",
    "url = 'https://info.dengue.mat.br/api/alertcity?geocode=3304557&disease=dengue&format=csv&ew_start=1&ew_end=50'\n",
    "data = requests.get(url).content\n",
    "csv = pd.read_csv(io.StringIO(data.decode(\"utf-8\")))\n",
    "print(csv)"
   ]
  },
  {
   "cell_type": "markdown",
   "metadata": {},
   "source": [
    "# Tarefa 2\n",
    "\n",
    "## Engenharia reversa\n",
    "\n",
    "Monte um diagramas que representem modelos dos dados que você terá acesso e como pretende associá-los. Coloque abaixo uma imagem do diagrama."
   ]
  },
  {
   "cell_type": "code",
   "execution_count": null,
   "metadata": {},
   "outputs": [],
   "source": []
  }
 ],
 "metadata": {
  "kernelspec": {
   "display_name": "Python 3",
   "language": "python",
   "name": "python3"
  },
  "language_info": {
   "codemirror_mode": {
    "name": "ipython",
    "version": 3
   },
   "file_extension": ".py",
   "mimetype": "text/x-python",
   "name": "python",
   "nbconvert_exporter": "python",
   "pygments_lexer": "ipython3",
   "version": "3.9.5"
  }
 },
 "nbformat": 4,
 "nbformat_minor": 4
}
